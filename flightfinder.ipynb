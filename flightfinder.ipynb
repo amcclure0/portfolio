import pandas as pd
import requests
import re
from selenium import webdriver
from bs4 import BeautifulSoup
import matplotlib
import matplotlib.pyplot as plt
from plottable import Table
from plottable import ColumnDefinition, Table
from plottable.plots import image
import numpy as np
import PIL
from PIL import Image
import urllib

Origin = 'ORD'
Dest = 'AKL'
Date = '2024-08-01'

URL = 'https://direct-flights.com/chicago-{}'.format(Origin)
page = requests.get(URL)

# print(page.text)

soup = BeautifulSoup(page.content, "html.parser")

results = soup.find(id='root')

# print(results)

destinations = results.find_all('div', class_='list-value-grow')

originiata = []
origincity = []

for destination in destinations:
    #print(destination.text)
    info = destination.text
    iata = info[info.find('(')+1:info.find(')')]
    city = info[0:info.find('(')-1]
    originiata.append(iata)
    origincity.append(city)
    # print(info)
    # print(iata)
    # print(city)
    # print()
    # print(iata)

origindf = pd.DataFrame({'iata':originiata,'city':origincity})

# print(URL)
# print(origindf)

URL = 'https://direct-flights.com/chicago-{}'.format(Dest)
page = requests.get(URL)

# print(page.text)

soup = BeautifulSoup(page.content, "html.parser")

results = soup.find(id='root')

# print(results)

destinations = results.find_all('div', class_='list-value-grow')

destiata = []
destcity = []

for destination in destinations:
    #print(destination.text)
    info = destination.text
    iata = info[info.find('(')+1:info.find(')')]
    city = info[0:info.find('(')-1]
    destiata.append(iata)
    destcity.append(city)
    # print(info)
    # print(iata)
    # print(city)
    # print()
    # print(iata)

destdf = pd.DataFrame({'iata':destiata,'city':destcity})

layoverpoints = pd.merge(origindf, destdf, on=['iata','city'], how='inner')
# print(layoverpoints)

googleurlsleg1 = []
googleurlsleg2 = []

for i in layoverpoints.iata:
    googleurlsleg1 += [
    'https://www.google.com/travel/flights?hl=en&q=Flights%20to%20{dest}%20from%20{origin}%20on%20{date}%20oneway'.format(
        dest = i.lower(),
        origin = Origin.lower(),
        date = Date
    )
]

for i in layoverpoints.iata:
    googleurlsleg2 += [
    'https://www.google.com/travel/flights?hl=en&q=Flights%20to%20{dest}%20from%20{origin}%20on%20{date}%20oneway'.format(
        dest = Dest.lower(),
        origin = i.lower(),
        date = Date
    )
]

# print(googleurls)

    layover = []
    prices = []
    times = []
    airlines = []
    totaltimes = []
    stops = []
    logourl = []

for i in googleurlsleg1:

    URL = i
    page = requests.get(URL)
    
    # print(page.text)
    
    soup = BeautifulSoup(page.content, "html.parser")
    
    results = soup.find(id='yDmH0d')
    
    # print(results)
    
    flights = results.find_all('li', class_='pIav2d')
    
    # experimenting with clicks in selenium to get to spans within each flight
    # driver.find_element_by_xpath("//button[@class='button__373c0__3lYgT secondary__373c0__1bsQo activated__373c0__1moG8 ']").click()
    
    # spans = flight.find_all('span')
    # for span in spans:
    #     print(span.text)
    
    for flight in flights:
        layoveriata = str(i)[61:64].upper()
        price = flight.find('div', class_='BVAVmf I11szd POX3ye').text
        time = flight.find('div', class_='zxVSec YMlIz tPgKwe ogfYpf').text
        airline = flight.find('div', class_='sSHqwe tPgKwe ogfYpf').text
        totaltime = flight.find('div', class_='gvkrdb AdWm1c tPgKwe ogfYpf').text
        stop = flight.find('div', class_='EfT7Ae AdWm1c tPgKwe').text
        logo = str(flight.find('div', class_='EbY4Pc P2UJoe'))
        logoclean = logo[logo.find('(')+1:logo.find(')')]
        # flightno = flight.find_all('span', attrs = {'class' : 'Xsgmwe QS0io'})
        layover.append(layoveriata)
        prices.append(price)
        times.append (time)
        airlines.append(airline)
        totaltimes.append(totaltime)
        stops.append(stop)
        logourl.append(logoclean)
    # print(price)
    # print(time)
    # print(airline)
    # print(totaltime)
    # print(stop)
    # print()

leg1flightsdf = pd.DataFrame({'layover':layover,'price':prices,'time':times,'airline':airlines,'totaltime':totaltimes,'stops':stops,'logo':logourl})

layover = []
layovername = []
prices = []
times = []
airlines = []
totaltimes = []
stops = []
logourl = []
logoimage = []

for i in googleurlsleg2:

    URL = i
    page = requests.get(URL)
    
    # print(page.text)
    
    soup = BeautifulSoup(page.content, "html.parser")
    
    results = soup.find(id='yDmH0d')
    
    # print(results)
    
    flights = results.find_all('li', class_='pIav2d')
    
    # experimenting with clicks in selenium to get to spans within each flight
    # driver.find_element_by_xpath("//button[@class='button__373c0__3lYgT secondary__373c0__1bsQo activated__373c0__1moG8 ']").click()
    
    # spans = flight.find_all('span')
    # for span in spans:
    #     print(span.text)
    
    for flight in flights:
        layoveriata = str(flight.find('div', class_='QylvBf').text)[:3]
        layoverairport = str(flight.find('div', class_='QylvBf').text)[-len(str(flight.find('div', class_='QylvBf').text))+3:]
        price = str(flight.find('div', class_='BVAVmf I11szd POX3ye').text)
        time = str(flight.find('div', class_='zxVSec YMlIz tPgKwe ogfYpf').text)
        airline = str(flight.find('div', class_='sSHqwe tPgKwe ogfYpf').text)
        totaltime = str(flight.find('div', class_='gvkrdb AdWm1c tPgKwe ogfYpf').text)
        stop = str(flight.find('div', class_='EfT7Ae AdWm1c tPgKwe').text)
        logo = str(flight.find('div', class_='EbY4Pc P2UJoe'))
        logoclean = logo[logo.find('(')+1:logo.find(')')]
        logotopillow = np.array(PIL.Image.open(urllib.request.urlopen(logoclean)))
        # flightno = flight.find_all('span', attrs = {'class' : 'Xsgmwe QS0io'})
        layover.append(layoveriata)
        layovername.append(layoverairport)
        prices.append(price)
        times.append (time)
        airlines.append(airline)
        totaltimes.append(totaltime)
        stops.append(stop)
        logourl.append(logoclean)
        logoimage.append(logotopillow)
    # print(price)
    # print(time)
    # print(airline)
    # print(totaltime)
    # print(stop)
    # print()
    
leg2flightsdf = pd.DataFrame({'layover':layover,'layovername':layovername,'price':prices,'time':times,'airline':airlines,'totaltime':totaltimes,'stops':stops})

#print(leg1flightsdf)
#print(leg2flightsdf)

col_defs = (
    [
        ColumnDefinition(
            name="Layover Airport",
            title="",
            width=0.5
        ),
        ColumnDefinition(
            name="Layover Name",
            title="",
            width=0.5
        ),
        ColumnDefinition(
            name="Price",
            title="",
            width=0.5
        ),
        ColumnDefinition(
            name="Time",
            title="",
            width=0.5
        ),
        ColumnDefinition(
            name="Airline",
            title="",
            width=0.5
        ),
        ColumnDefinition(
            name="Total Time",
            title="",
            width=0.5
        ),
        ColumnDefinition(
            name="Stops",
            title="",
            width=0.5
        )
        # ColumnDefinition(
        #     name="logo",
        #     title="",
        #     textprops={"ha": "center"},
        #     width=0.5,
        #     plot_fn=image
        # )
    ]
)

# fig, ax = plt.subplots(figsize=(30, 80))
# leg2plt = Table(leg2flightsdf)

fig, ax = plt.subplots(figsize=(30, 250))

table = Table(
    leg2flightsdf,
    column_definitions=col_defs,
    row_dividers=True,
    footer_divider=True,
    ax=ax,
    textprops={"fontsize": 14},
    row_divider_kw={"linewidth": 1, "linestyle": (0, (1, 5))},
    col_label_divider_kw={"linewidth": 1, "linestyle": "-"},
    column_border_kw={"linewidth": 1, "linestyle": "-"}
)

plt.rcParams["font.family"] = ["DejaVu Sans"]
plt.rcParams["savefig.bbox"] = "tight"

#plt.show()
fig.show #savefig("images/wwc_table.png", facecolor=ax.get_facecolor(), dpi=200)